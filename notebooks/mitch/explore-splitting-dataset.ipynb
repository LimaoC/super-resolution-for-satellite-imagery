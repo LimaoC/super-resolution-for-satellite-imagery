{
 "cells": [
  {
   "cell_type": "code",
   "execution_count": 4,
   "metadata": {},
   "outputs": [
    {
     "name": "stdout",
     "output_type": "stream",
     "text": [
      "Requirement already satisfied: tqdm in c:\\users\\mitch\\github\\stat3007-project\\env\\lib\\site-packages (4.66.2)\n",
      "Requirement already satisfied: colorama in c:\\users\\mitch\\github\\stat3007-project\\env\\lib\\site-packages (from tqdm) (0.4.6)\n"
     ]
    },
    {
     "name": "stderr",
     "output_type": "stream",
     "text": [
      "\n",
      "[notice] A new release of pip available: 22.3.1 -> 24.0\n",
      "[notice] To update, run: python.exe -m pip install --upgrade pip\n"
     ]
    }
   ],
   "source": [
    "!pip install tqdm"
   ]
  },
  {
   "cell_type": "code",
   "execution_count": 1,
   "metadata": {},
   "outputs": [],
   "source": [
    "import torch\n",
    "import tqdm\n",
    "import pathlib\n",
    "from torch.nn.functional import interpolate\n",
    "from torcheval.metrics.functional import peak_signal_noise_ratio\n",
    "from torchmetrics.functional.image import structural_similarity_index_measure\n",
    "from super_resolution.src.sen2venus_dataset import S2VSites, S2VSite\n",
    "from super_resolution.src.visualization import plot_gallery"
   ]
  },
  {
   "cell_type": "code",
   "execution_count": 2,
   "metadata": {},
   "outputs": [],
   "source": [
    "DATA_DIR = pathlib.Path(\"C:/Users/Mitch/stat3007_data/sites/\")"
   ]
  },
  {
   "cell_type": "code",
   "execution_count": 3,
   "metadata": {},
   "outputs": [
    {
     "name": "stderr",
     "output_type": "stream",
     "text": [
      "  7%|████▍                                                           | 2/29 [00:03<00:48,  1.81s/it]"
     ]
    },
    {
     "name": "stdout",
     "output_type": "stream",
     "text": [
      "Downloading https://zenodo.org/records/6514159/files/ARM.7z?download=1 to C:\\Users\\Mitch\\stat3007_data\\sites\\ARM.7z\n"
     ]
    },
    {
     "name": "stderr",
     "output_type": "stream",
     "text": []
    }
   ],
   "source": [
    "# Download all site data\n",
    "for site_name, _ in tqdm.tqdm(S2VSites.SITES, ncols=100):\n",
    "    site = S2VSite(\n",
    "        site_name=site_name,\n",
    "        bands=\"rgbnir\",\n",
    "        download_dir=str(DATA_DIR) + \"\\\\\",\n",
    "        device=\"cpu\",\n",
    "    )\n",
    "    del site"
   ]
  },
  {
   "cell_type": "code",
   "execution_count": null,
   "metadata": {},
   "outputs": [],
   "source": []
  },
  {
   "cell_type": "code",
   "execution_count": null,
   "metadata": {},
   "outputs": [],
   "source": []
  }
 ],
 "metadata": {
  "kernelspec": {
   "display_name": "env",
   "language": "python",
   "name": "python3"
  },
  "language_info": {
   "codemirror_mode": {
    "name": "ipython",
    "version": 3
   },
   "file_extension": ".py",
   "mimetype": "text/x-python",
   "name": "python",
   "nbconvert_exporter": "python",
   "pygments_lexer": "ipython3",
   "version": "3.11.3"
  }
 },
 "nbformat": 4,
 "nbformat_minor": 2
}
