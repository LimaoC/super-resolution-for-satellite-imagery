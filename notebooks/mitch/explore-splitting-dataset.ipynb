{
 "cells": [
  {
   "cell_type": "code",
   "execution_count": 4,
   "metadata": {},
   "outputs": [
    {
     "name": "stdout",
     "output_type": "stream",
     "text": [
      "Requirement already satisfied: tqdm in c:\\users\\mitch\\github\\stat3007-project\\env\\lib\\site-packages (4.66.2)\n",
      "Requirement already satisfied: colorama in c:\\users\\mitch\\github\\stat3007-project\\env\\lib\\site-packages (from tqdm) (0.4.6)\n"
     ]
    },
    {
     "name": "stderr",
     "output_type": "stream",
     "text": [
      "\n",
      "[notice] A new release of pip available: 22.3.1 -> 24.0\n",
      "[notice] To update, run: python.exe -m pip install --upgrade pip\n"
     ]
    }
   ],
   "source": [
    "!pip install tqdm"
   ]
  },
  {
   "cell_type": "code",
   "execution_count": 1,
   "metadata": {},
   "outputs": [],
   "source": [
    "import torch\n",
    "import tqdm\n",
    "import pathlib\n",
    "from torch.nn.functional import interpolate\n",
    "from torcheval.metrics.functional import peak_signal_noise_ratio\n",
    "from torchmetrics.functional.image import structural_similarity_index_measure\n",
    "from super_resolution.src.sen2venus_dataset import S2VSites, S2VSite\n",
    "from super_resolution.src.visualization import plot_gallery"
   ]
  },
  {
   "cell_type": "code",
   "execution_count": 2,
   "metadata": {},
   "outputs": [],
   "source": [
    "DATA_DIR = pathlib.Path(\"C:/Users/Mitch/stat3007_data/sites/\")"
   ]
  },
  {
   "cell_type": "code",
   "execution_count": 3,
   "metadata": {},
   "outputs": [
    {
     "name": "stderr",
     "output_type": "stream",
     "text": [
      "  0%|                                                                        | 0/29 [00:00<?, ?it/s]"
     ]
    },
    {
     "name": "stdout",
     "output_type": "stream",
     "text": [
      "C:\\Users\\Mitch\\stat3007_data\\sites\\ALSACE.7z\n"
     ]
    },
    {
     "name": "stderr",
     "output_type": "stream",
     "text": [
      "  3%|██▏                                                             | 1/29 [00:01<00:34,  1.23s/it]"
     ]
    },
    {
     "name": "stdout",
     "output_type": "stream",
     "text": [
      "C:\\Users\\Mitch\\stat3007_data\\sites\\ANJI.7z\n"
     ]
    },
    {
     "name": "stderr",
     "output_type": "stream",
     "text": [
      "  7%|████▍                                                           | 2/29 [00:02<00:27,  1.01s/it]\n"
     ]
    },
    {
     "name": "stdout",
     "output_type": "stream",
     "text": [
      "C:\\Users\\Mitch\\stat3007_data\\sites\\ARM.7z\n"
     ]
    },
    {
     "ename": "Bad7zFile",
     "evalue": "invalid header data",
     "output_type": "error",
     "traceback": [
      "\u001b[1;31m---------------------------------------------------------------------------\u001b[0m",
      "\u001b[1;31mBad7zFile\u001b[0m                                 Traceback (most recent call last)",
      "Cell \u001b[1;32mIn[3], line 3\u001b[0m\n\u001b[0;32m      1\u001b[0m \u001b[38;5;66;03m# Download all site data\u001b[39;00m\n\u001b[0;32m      2\u001b[0m \u001b[38;5;28;01mfor\u001b[39;00m site_name, _ \u001b[38;5;129;01min\u001b[39;00m tqdm\u001b[38;5;241m.\u001b[39mtqdm(S2VSites\u001b[38;5;241m.\u001b[39mSITES, ncols\u001b[38;5;241m=\u001b[39m\u001b[38;5;241m100\u001b[39m):\n\u001b[1;32m----> 3\u001b[0m     site \u001b[38;5;241m=\u001b[39m \u001b[43mS2VSite\u001b[49m\u001b[43m(\u001b[49m\n\u001b[0;32m      4\u001b[0m \u001b[43m        \u001b[49m\u001b[43msite_name\u001b[49m\u001b[38;5;241;43m=\u001b[39;49m\u001b[43msite_name\u001b[49m\u001b[43m,\u001b[49m\n\u001b[0;32m      5\u001b[0m \u001b[43m        \u001b[49m\u001b[43mbands\u001b[49m\u001b[38;5;241;43m=\u001b[39;49m\u001b[38;5;124;43m\"\u001b[39;49m\u001b[38;5;124;43mrgbnir\u001b[39;49m\u001b[38;5;124;43m\"\u001b[39;49m\u001b[43m,\u001b[49m\n\u001b[0;32m      6\u001b[0m \u001b[43m        \u001b[49m\u001b[43mdownload_dir\u001b[49m\u001b[38;5;241;43m=\u001b[39;49m\u001b[38;5;28;43mstr\u001b[39;49m\u001b[43m(\u001b[49m\u001b[43mDATA_DIR\u001b[49m\u001b[43m)\u001b[49m\u001b[43m \u001b[49m\u001b[38;5;241;43m+\u001b[39;49m\u001b[43m \u001b[49m\u001b[38;5;124;43m\"\u001b[39;49m\u001b[38;5;130;43;01m\\\\\u001b[39;49;00m\u001b[38;5;124;43m\"\u001b[39;49m\u001b[43m,\u001b[49m\n\u001b[0;32m      7\u001b[0m \u001b[43m        \u001b[49m\u001b[43mdevice\u001b[49m\u001b[38;5;241;43m=\u001b[39;49m\u001b[38;5;124;43m\"\u001b[39;49m\u001b[38;5;124;43mcpu\u001b[39;49m\u001b[38;5;124;43m\"\u001b[39;49m\u001b[43m,\u001b[49m\n\u001b[0;32m      8\u001b[0m \u001b[43m    \u001b[49m\u001b[43m)\u001b[49m\n\u001b[0;32m      9\u001b[0m     \u001b[38;5;28;01mdel\u001b[39;00m site\n",
      "File \u001b[1;32m~\\GitHub\\stat3007-project\\super_resolution\\src\\sen2venus_dataset.py:107\u001b[0m, in \u001b[0;36mS2VSite.__init__\u001b[1;34m(self, site_name, bands, download_dir, device)\u001b[0m\n\u001b[0;32m    104\u001b[0m \u001b[38;5;28mself\u001b[39m\u001b[38;5;241m.\u001b[39mdevice \u001b[38;5;241m=\u001b[39m device\n\u001b[0;32m    106\u001b[0m \u001b[38;5;66;03m# Download and extract the dataset (if it hasn't already been downloaded)\u001b[39;00m\n\u001b[1;32m--> 107\u001b[0m \u001b[38;5;28;43mself\u001b[39;49m\u001b[38;5;241;43m.\u001b[39;49m\u001b[43mdownload_and_extract\u001b[49m\u001b[43m(\u001b[49m\u001b[43m)\u001b[49m\n\u001b[0;32m    109\u001b[0m \u001b[38;5;66;03m# Parse samples from the extracted dataset\u001b[39;00m\n\u001b[0;32m    110\u001b[0m \u001b[38;5;28mself\u001b[39m\u001b[38;5;241m.\u001b[39mparse_samples()\n",
      "File \u001b[1;32m~\\GitHub\\stat3007-project\\super_resolution\\src\\sen2venus_dataset.py:221\u001b[0m, in \u001b[0;36mS2VSite.download_and_extract\u001b[1;34m(self)\u001b[0m\n\u001b[0;32m    219\u001b[0m \u001b[38;5;28mprint\u001b[39m(\u001b[38;5;28mself\u001b[39m\u001b[38;5;241m.\u001b[39mdownload_dir \u001b[38;5;241m+\u001b[39m zip_name)\n\u001b[0;32m    220\u001b[0m \u001b[38;5;28;01mif\u001b[39;00m \u001b[38;5;129;01mnot\u001b[39;00m \u001b[38;5;28mself\u001b[39m\u001b[38;5;241m.\u001b[39mis_extracted():\n\u001b[1;32m--> 221\u001b[0m     \u001b[38;5;28;01mwith\u001b[39;00m \u001b[43mpy7zr\u001b[49m\u001b[38;5;241;43m.\u001b[39;49m\u001b[43mSevenZipFile\u001b[49m\u001b[43m(\u001b[49m\u001b[38;5;28;43mself\u001b[39;49m\u001b[38;5;241;43m.\u001b[39;49m\u001b[43mdownload_dir\u001b[49m\u001b[43m \u001b[49m\u001b[38;5;241;43m+\u001b[39;49m\u001b[43m \u001b[49m\u001b[43mzip_name\u001b[49m\u001b[43m,\u001b[49m\u001b[43m \u001b[49m\u001b[43mmode\u001b[49m\u001b[38;5;241;43m=\u001b[39;49m\u001b[38;5;124;43m\"\u001b[39;49m\u001b[38;5;124;43mr\u001b[39;49m\u001b[38;5;124;43m\"\u001b[39;49m\u001b[43m)\u001b[49m \u001b[38;5;28;01mas\u001b[39;00m \u001b[38;5;28mzip\u001b[39m:\n\u001b[0;32m    222\u001b[0m         \u001b[38;5;28mzip\u001b[39m\u001b[38;5;241m.\u001b[39mextractall(\u001b[38;5;28mself\u001b[39m\u001b[38;5;241m.\u001b[39mdownload_dir)\n",
      "File \u001b[1;32mc:\\Users\\mitch\\GitHub\\stat3007-project\\env\\Lib\\site-packages\\py7zr\\py7zr.py:410\u001b[0m, in \u001b[0;36mSevenZipFile.__init__\u001b[1;34m(self, file, mode, filters, dereference, password, header_encryption, blocksize, mp)\u001b[0m\n\u001b[0;32m    408\u001b[0m \u001b[38;5;28;01mexcept\u001b[39;00m \u001b[38;5;167;01mException\u001b[39;00m \u001b[38;5;28;01mas\u001b[39;00m e:\n\u001b[0;32m    409\u001b[0m     \u001b[38;5;28mself\u001b[39m\u001b[38;5;241m.\u001b[39m_fpclose()\n\u001b[1;32m--> 410\u001b[0m     \u001b[38;5;28;01mraise\u001b[39;00m e\n\u001b[0;32m    411\u001b[0m \u001b[38;5;28mself\u001b[39m\u001b[38;5;241m.\u001b[39m_dict: Dict[\u001b[38;5;28mstr\u001b[39m, IO[Any]] \u001b[38;5;241m=\u001b[39m {}\n\u001b[0;32m    412\u001b[0m \u001b[38;5;28mself\u001b[39m\u001b[38;5;241m.\u001b[39mdereference \u001b[38;5;241m=\u001b[39m dereference\n",
      "File \u001b[1;32mc:\\Users\\mitch\\GitHub\\stat3007-project\\env\\Lib\\site-packages\\py7zr\\py7zr.py:398\u001b[0m, in \u001b[0;36mSevenZipFile.__init__\u001b[1;34m(self, file, mode, filters, dereference, password, header_encryption, blocksize, mp)\u001b[0m\n\u001b[0;32m    396\u001b[0m \u001b[38;5;28;01mtry\u001b[39;00m:\n\u001b[0;32m    397\u001b[0m     \u001b[38;5;28;01mif\u001b[39;00m mode \u001b[38;5;241m==\u001b[39m \u001b[38;5;124m\"\u001b[39m\u001b[38;5;124mr\u001b[39m\u001b[38;5;124m\"\u001b[39m:\n\u001b[1;32m--> 398\u001b[0m         \u001b[38;5;28;43mself\u001b[39;49m\u001b[38;5;241;43m.\u001b[39;49m\u001b[43m_real_get_contents\u001b[49m\u001b[43m(\u001b[49m\u001b[43mpassword\u001b[49m\u001b[43m)\u001b[49m\n\u001b[0;32m    399\u001b[0m         \u001b[38;5;28mself\u001b[39m\u001b[38;5;241m.\u001b[39mfp\u001b[38;5;241m.\u001b[39mseek(\u001b[38;5;28mself\u001b[39m\u001b[38;5;241m.\u001b[39mafterheader)  \u001b[38;5;66;03m# seek into start of payload and prepare worker to extract\u001b[39;00m\n\u001b[0;32m    400\u001b[0m         \u001b[38;5;28mself\u001b[39m\u001b[38;5;241m.\u001b[39mworker \u001b[38;5;241m=\u001b[39m Worker(\u001b[38;5;28mself\u001b[39m\u001b[38;5;241m.\u001b[39mfiles, \u001b[38;5;28mself\u001b[39m\u001b[38;5;241m.\u001b[39mafterheader, \u001b[38;5;28mself\u001b[39m\u001b[38;5;241m.\u001b[39mheader, \u001b[38;5;28mself\u001b[39m\u001b[38;5;241m.\u001b[39mmp)\n",
      "File \u001b[1;32mc:\\Users\\mitch\\GitHub\\stat3007-project\\env\\Lib\\site-packages\\py7zr\\py7zr.py:436\u001b[0m, in \u001b[0;36mSevenZipFile._real_get_contents\u001b[1;34m(self, password)\u001b[0m\n\u001b[0;32m    434\u001b[0m buffer \u001b[38;5;241m=\u001b[39m io\u001b[38;5;241m.\u001b[39mBytesIO(\u001b[38;5;28mself\u001b[39m\u001b[38;5;241m.\u001b[39mfp\u001b[38;5;241m.\u001b[39mread(\u001b[38;5;28mself\u001b[39m\u001b[38;5;241m.\u001b[39msig_header\u001b[38;5;241m.\u001b[39mnextheadersize))\n\u001b[0;32m    435\u001b[0m \u001b[38;5;28;01mif\u001b[39;00m \u001b[38;5;28mself\u001b[39m\u001b[38;5;241m.\u001b[39msig_header\u001b[38;5;241m.\u001b[39mnextheadercrc \u001b[38;5;241m!=\u001b[39m calculate_crc32(buffer\u001b[38;5;241m.\u001b[39mgetvalue()):\n\u001b[1;32m--> 436\u001b[0m     \u001b[38;5;28;01mraise\u001b[39;00m Bad7zFile(\u001b[38;5;124m\"\u001b[39m\u001b[38;5;124minvalid header data\u001b[39m\u001b[38;5;124m\"\u001b[39m)\n\u001b[0;32m    437\u001b[0m header \u001b[38;5;241m=\u001b[39m Header\u001b[38;5;241m.\u001b[39mretrieve(\u001b[38;5;28mself\u001b[39m\u001b[38;5;241m.\u001b[39mfp, buffer, \u001b[38;5;28mself\u001b[39m\u001b[38;5;241m.\u001b[39mafterheader, password)\n\u001b[0;32m    438\u001b[0m \u001b[38;5;28;01mif\u001b[39;00m header \u001b[38;5;129;01mis\u001b[39;00m \u001b[38;5;28;01mNone\u001b[39;00m:\n",
      "\u001b[1;31mBad7zFile\u001b[0m: invalid header data"
     ]
    }
   ],
   "source": [
    "# Download all site data\n",
    "for site_name, _ in tqdm.tqdm(S2VSites.SITES, ncols=100):\n",
    "    site = S2VSite(\n",
    "        site_name=site_name,\n",
    "        bands=\"rgbnir\",\n",
    "        download_dir=str(DATA_DIR) + \"\\\\\",\n",
    "        device=\"cpu\",\n",
    "    )\n",
    "    del site"
   ]
  },
  {
   "cell_type": "code",
   "execution_count": null,
   "metadata": {},
   "outputs": [],
   "source": []
  },
  {
   "cell_type": "code",
   "execution_count": null,
   "metadata": {},
   "outputs": [],
   "source": []
  }
 ],
 "metadata": {
  "kernelspec": {
   "display_name": "env",
   "language": "python",
   "name": "python3"
  },
  "language_info": {
   "codemirror_mode": {
    "name": "ipython",
    "version": 3
   },
   "file_extension": ".py",
   "mimetype": "text/x-python",
   "name": "python",
   "nbconvert_exporter": "python",
   "pygments_lexer": "ipython3",
   "version": "3.11.3"
  }
 },
 "nbformat": 4,
 "nbformat_minor": 2
}
