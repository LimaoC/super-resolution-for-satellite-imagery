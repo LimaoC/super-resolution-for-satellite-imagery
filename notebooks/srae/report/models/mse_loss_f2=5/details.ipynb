{
 "cells": [
  {
   "cell_type": "markdown",
   "metadata": {},
   "source": [
    "- MSE loss\n",
    "- batch-size = 32 \n",
    "- $f_2 = 5$ \n",
    "- 200 epochs \n",
    "- 2hrs of training "
   ]
  }
 ],
 "metadata": {
  "language_info": {
   "name": "python"
  }
 },
 "nbformat": 4,
 "nbformat_minor": 2
}
