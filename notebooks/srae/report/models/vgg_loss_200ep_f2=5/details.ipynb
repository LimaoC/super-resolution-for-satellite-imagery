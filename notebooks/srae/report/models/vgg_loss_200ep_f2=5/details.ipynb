{
 "cells": [
  {
   "cell_type": "markdown",
   "metadata": {},
   "source": [
    "In this model,\n",
    "- $f_2 = 5$\n",
    "- Style layers = []\n",
    "- Feature layers = [0,1,2,3]\n",
    "- Training time: ~7hrs\n",
    "- Epochs: 200 epochs\n",
    "- "
   ]
  }
 ],
 "metadata": {
  "language_info": {
   "name": "python"
  }
 },
 "nbformat": 4,
 "nbformat_minor": 2
}
